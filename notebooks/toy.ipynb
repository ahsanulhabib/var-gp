{
 "nbformat": 4,
 "nbformat_minor": 2,
 "metadata": {
  "language_info": {
   "name": "python",
   "codemirror_mode": {
    "name": "ipython",
    "version": 3
   },
   "version": "3.7.6-final"
  },
  "orig_nbformat": 2,
  "file_extension": ".py",
  "mimetype": "text/x-python",
  "name": "python",
  "npconvert_exporter": "python",
  "pygments_lexer": "ipython3",
  "version": 3,
  "kernelspec": {
   "name": "python37664bitcgpcondacf7e78d380a64f8f9d09797562a4bc19",
   "display_name": "Python 3.7.6 64-bit ('cgp': conda)"
  }
 },
 "cells": [
  {
   "cell_type": "code",
   "execution_count": null,
   "metadata": {},
   "outputs": [],
   "source": [
    "import torch\n",
    "from torch.utils.data import DataLoader\n",
    "import matplotlib.pyplot as plt\n",
    "import seaborn as sns\n",
    "import pandas as pd\n",
    "\n",
    "device = 'cuda' if torch.cuda.is_available() else 'cpu'\n",
    "\n",
    "sns.set()\n",
    "\n",
    "save = False"
   ]
  },
  {
   "cell_type": "code",
   "execution_count": null,
   "metadata": {},
   "outputs": [],
   "source": [
    "import sys\n",
    "if '..' not in sys.path:\n",
    "    sys.path.append('..')\n",
    "\n",
    "from continual_gp.datasets import ToyDataset\n",
    "from continual_gp.train_utils import create_class_gp, set_seeds"
   ]
  },
  {
   "cell_type": "code",
   "execution_count": null,
   "metadata": {},
   "outputs": [],
   "source": [
    "set_seeds(1)\n",
    "\n",
    "toy_ds = ToyDataset()\n",
    "\n",
    "fig, ax = plt.subplots(figsize=(10,10))\n",
    "scatter = ax.scatter(toy_ds.data[:, 0], toy_ds.data[:, 1], c=toy_ds.targets, cmap=plt.get_cmap('inferno'), label=toy_ds.targets)\n",
    "ax.set_xlim(-3,3)\n",
    "ax.set_ylim(-3,3)\n",
    "legend = ax.legend(*scatter.legend_elements(), loc=\"top right\", title=\"Classes\")\n",
    "ax.add_artist(legend)\n",
    "if save:\n",
    "    fig.savefig('toy_data.png', bbox_inches='tight', pad_inches=0)"
   ]
  },
  {
   "cell_type": "code",
   "execution_count": null,
   "metadata": {},
   "outputs": [],
   "source": [
    "grid_data = torch.cat([v.unsqueeze(-1) for v in torch.meshgrid([torch.arange(-3,3,0.1), torch.arange(-3,3,0.1)])], dim=-1).permute(1, 0, 2)\n",
    "\n",
    "def plot_classes(preds, z=None):\n",
    "    out = preds.reshape(*grid_data.shape[:-1], -1)\n",
    "\n",
    "    fig, axes = plt.subplots(1, 4, sharey=True, sharex=True, figsize=(30,10))\n",
    "    fig.subplots_adjust(hspace=0.05, wspace=0.05)\n",
    "\n",
    "    cim = None\n",
    "    for i in range(preds.size(-1)):\n",
    "        cim = axes[i].imshow(out[..., i], interpolation='gaussian', cmap='viridis', extent=(-3,3,-3,3), origin='lower')\n",
    "        # cim = axes[i].scatter(grid_data[..., 0], grid_data[..., 1], c=out[..., i], cmap='viridis')\n",
    "        axes[i].set(aspect='equal')\n",
    "        axes[i].set_xlim(-3, 3)\n",
    "        axes[i].set_ylim(-3, 3)\n",
    "        axes[i].grid(False)\n",
    "\n",
    "        if z is not None:\n",
    "            axes[i].scatter(z[i, ..., 0], z[i, ..., 1], marker='o', facecolor='white', edgecolor='black')\n",
    "\n",
    "    # fig.colorbar(cim, ax=axes.ravel().tolist(), shrink=0.5)\n",
    "\n",
    "    return fig, axes"
   ]
  },
  {
   "cell_type": "code",
   "execution_count": null,
   "metadata": {},
   "outputs": [],
   "source": [
    "import numpy as np\n",
    "run_dir = '../wandb/dryrun-20200318_005110-2si1zffc'\n",
    "\n",
    "with torch.no_grad():\n",
    "    gp = create_class_gp(toy_ds, M=20, n_f=50, n_var_samples=20).to(device)\n",
    "    fig, _ = plot_classes(gp.predict(grid_data.reshape(-1, 2)))\n",
    "    if save:\n",
    "        fig.savefig('toy_var_gp_0.png', bbox_inches='tight', pad_inches=0)\n",
    "\n",
    "prev_params = []\n",
    "for t in range(2):\n",
    "    toy_ds.filter_by_class(range(2 * t + 2))\n",
    "\n",
    "    with torch.no_grad():\n",
    "        cur_params = torch.load(f'{run_dir}/ckpt{t}.pt')\n",
    "        gp = create_class_gp(toy_ds, M=20, n_f=50, n_var_samples=20, prev_params=prev_params).to(device)\n",
    "        gp.load_state_dict(cur_params)\n",
    "\n",
    "        fig, _ = plot_classes(gp.predict(grid_data.reshape(-1, 2)), z=cur_params.get('z'))\n",
    "        if save:\n",
    "            fig.savefig(f'toy_var_gp_{t + 1}.png', bbox_inches='tight', pad_inches=0)\n",
    "\n",
    "    prev_params.append(cur_params)"
   ]
  }
 ]
}
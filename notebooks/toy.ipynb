{
 "cells": [
  {
   "cell_type": "code",
   "execution_count": null,
   "metadata": {},
   "outputs": [],
   "source": [
    "import numpy as np\n",
    "import torch\n",
    "from torch.utils.data import DataLoader\n",
    "import matplotlib.pyplot as plt\n",
    "import seaborn as sns\n",
    "import pandas as pd\n",
    "\n",
    "device = 'cuda' if torch.cuda.is_available() else 'cpu'\n",
    "\n",
    "sns.set()\n",
    "\n",
    "save = True"
   ]
  },
  {
   "cell_type": "code",
   "execution_count": null,
   "metadata": {},
   "outputs": [],
   "source": [
    "import sys\n",
    "if '..' not in sys.path:\n",
    "    sys.path.append('..')\n",
    "\n",
    "from continual_gp.datasets import ToyDataset\n",
    "from continual_gp.train_utils import create_class_gp, set_seeds"
   ]
  },
  {
   "cell_type": "code",
   "execution_count": null,
   "metadata": {},
   "outputs": [],
   "source": [
    "set_seeds(1)\n",
    "\n",
    "toy_ds = ToyDataset()\n",
    "\n",
    "fig, ax = plt.subplots(figsize=(10,10))\n",
    "scatter = ax.scatter(toy_ds.data[:, 0], toy_ds.data[:, 1], c=toy_ds.targets, cmap=plt.get_cmap('viridis'), label=toy_ds.targets)\n",
    "ax.set_xlim(-3,3)\n",
    "ax.set_ylim(-3,3)\n",
    "legend = ax.legend(*scatter.legend_elements(), title=\"Classes\", title_fontsize=20, fontsize=20)\n",
    "ax.add_artist(legend)\n",
    "if save:\n",
    "    fig.savefig('toy_data.png', bbox_inches='tight', pad_inches=0)"
   ]
  },
  {
   "cell_type": "code",
   "execution_count": null,
   "metadata": {},
   "outputs": [],
   "source": [
    "grid_data = torch.cat([v.unsqueeze(-1) for v in torch.meshgrid([torch.arange(-3,3,0.1), torch.arange(-3,3,0.1)])], dim=-1).permute(1, 0, 2)\n",
    "\n",
    "def plot_task(preds, titles=True, task_id=0):\n",
    "    out = preds.reshape(*grid_data.shape[:-1], -1)\n",
    "\n",
    "    fig, axes = plt.subplots(1, 4, sharey=True, sharex=True, figsize=(30, 10))\n",
    "    fig.subplots_adjust(hspace=0.01, wspace=0.01)\n",
    "\n",
    "    cim = None\n",
    "    for i in range(preds.size(-1)):\n",
    "        toy_ds.filter_by_class([i])\n",
    "\n",
    "        cim = axes[i].imshow(out[..., i], interpolation='gaussian', cmap='viridis', extent=(-3,3,-3,3), origin='lower')\n",
    "        # cim = axes[i].scatter(grid_data[..., 0], grid_data[..., 1], c=out[..., i], cmap='viridis')\n",
    "        axes[i].set(aspect='equal')\n",
    "        axes[i].set_xlim(-3, 3)\n",
    "        axes[i].set_ylim(-3, 3)\n",
    "        axes[i].grid(False)\n",
    "        axes[i].set_xticks([])\n",
    "        axes[i].set_yticks([])\n",
    "        if titles:\n",
    "            axes[i].set_title(f'Class {i}', fontsize=50)\n",
    "\n",
    "        axes[i].scatter(toy_ds.data[toy_ds.task_ids][:, 0], toy_ds.data[toy_ds.task_ids][:, 1], marker='*', facecolor='red', s=200, alpha=0.5)\n",
    "        # if z is not None:\n",
    "        #     axes[i].scatter(z[i, ..., 0], z[i, ..., 1], marker='x', facecolor='white', s=100)\n",
    "\n",
    "    axes[0].set_ylabel(f'After Task {task_id}', fontsize=50)\n",
    "    \n",
    "    # fig.colorbar(cim, ax=axes.ravel().tolist(), shrink=0.5)\n",
    "    toy_ds.filter_by_class()\n",
    "\n",
    "    return fig, axes"
   ]
  },
  {
   "cell_type": "code",
   "execution_count": null,
   "metadata": {},
   "outputs": [],
   "source": [
    "run_dir = '../wandb/dryrun-20200402_213624-33ysqzp1'\n",
    "\n",
    "# with torch.no_grad():\n",
    "#     gp = create_class_gp(toy_ds, M=20, n_f=50, n_var_samples=20).to(device)\n",
    "#     fig, _ = plot_classes(gp.predict(grid_data.reshape(-1, 2)))\n",
    "#     if save:\n",
    "#         fig.savefig('toy_var_gp_0.png', bbox_inches='tight', pad_inches=0)\n",
    "\n",
    "prev_params = []\n",
    "for t in range(2):\n",
    "    with torch.no_grad():\n",
    "        cur_params = torch.load(f'{run_dir}/ckpt{t}.pt')\n",
    "        gp = create_class_gp(toy_ds, M=20, n_f=100, n_var_samples=20, prev_params=prev_params).to(device)\n",
    "        gp.load_state_dict(cur_params)\n",
    "\n",
    "        preds = gp.predict(grid_data.reshape(-1, 2))\n",
    "        fig, _ = plot_task(preds, titles=(t == 0), task_id=t)\n",
    "        if save:\n",
    "            fig.savefig(f'toy_var_gp_{t + 1}.png', bbox_inches='tight', pad_inches=0)\n",
    "\n",
    "    prev_params.append(cur_params)"
   ]
  },
  {
   "cell_type": "code",
   "execution_count": null,
   "metadata": {},
   "outputs": [],
   "source": [
    "pred_dump = '/Users/sanyam/Downloads/vcl_toy'\n",
    "\n",
    "for t in range(2):\n",
    "    data = np.load(f'{pred_dump}/grid_pred_probs_{t}.npz')\n",
    "    preds = torch.from_numpy(np.squeeze(data['probs'], axis=-1).T).float()\n",
    "    fig, _ = plot_task(preds, titles=(t == 0), task_id=t)\n",
    "    if save:\n",
    "        fig.savefig(f'toy_vcl_{t + 1}.png', bbox_inches='tight', pad_inches=0)"
   ]
  },
  {
   "cell_type": "code",
   "execution_count": null,
   "metadata": {},
   "outputs": [],
   "source": []
  }
 ],
 "metadata": {
  "file_extension": ".py",
  "kernelspec": {
   "display_name": "Python 3.7.6 64-bit ('cgp': conda)",
   "language": "python",
   "name": "python37664bitcgpcondacf7e78d380a64f8f9d09797562a4bc19"
  },
  "language_info": {
   "codemirror_mode": {
    "name": "ipython",
    "version": 3
   },
   "file_extension": ".py",
   "mimetype": "text/x-python",
   "name": "python",
   "nbconvert_exporter": "python",
   "pygments_lexer": "ipython3",
   "version": "3.7.6"
  },
  "mimetype": "text/x-python",
  "name": "python",
  "npconvert_exporter": "python",
  "pygments_lexer": "ipython3",
  "version": 3
 },
 "nbformat": 4,
 "nbformat_minor": 2
}
